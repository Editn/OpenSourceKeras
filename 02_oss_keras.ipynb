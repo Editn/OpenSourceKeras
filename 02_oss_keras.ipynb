{
  "nbformat": 4,
  "nbformat_minor": 0,
  "metadata": {
    "colab": {
      "name": "02_oss_keras.ipynb",
      "version": "0.3.2",
      "provenance": [],
      "collapsed_sections": [],
      "include_colab_link": true
    },
    "kernelspec": {
      "name": "python3",
      "display_name": "Python 3"
    }
  },
  "cells": [
    {
      "cell_type": "markdown",
      "metadata": {
        "id": "view-in-github",
        "colab_type": "text"
      },
      "source": [
        "<a href=\"https://colab.research.google.com/github/jeonggunlee/OpenSourceKeras/blob/master/02_oss_keras.ipynb\" target=\"_parent\"><img src=\"https://colab.research.google.com/assets/colab-badge.svg\" alt=\"Open In Colab\"/></a>"
      ]
    },
    {
      "metadata": {
        "id": "3vQTVpHYADVv",
        "colab_type": "text"
      },
      "cell_type": "markdown",
      "source": [
        "###한림대학교 소프트웨어 융합 대학 특강\n",
        "\n",
        "##누구나 즐기는 딥러닝: 오픈소스 Keras를 활용하여!!!\n",
        "\n",
        "이정근 교수\n",
        "\n",
        "빅데이터전공주임/오픈소스소프트웨어센터장 소프트웨어융합대학\n",
        "\n",
        "jeonggun.lee@hallym.ac.kr 2019년 5월\n",
        "\n",
        "\n",
        "---\n",
        "\n",
        "\n",
        "###Keras 딥러닝: AND 논리 함수\n"
      ]
    },
    {
      "metadata": {
        "id": "oxKVohdGACKX",
        "colab_type": "code",
        "colab": {}
      },
      "cell_type": "code",
      "source": [
        "from keras.models import Sequential\n",
        "from keras.layers import Dense\n",
        "\n",
        "data = [[0, 0], [0, 1], [1,0], [1,1]]\n",
        "outcome = [0, 0, 0, 1]\n",
        "\n",
        "model = Sequential()\n",
        "model.add(Dense(1, input_dim=2))\n",
        "\n",
        "model.compile(loss=‘mean_squared_error’, optimizer='adam')\n",
        "model.fit(data, outcome, epochs=1000, batch_size=5)\n"
      ],
      "execution_count": 0,
      "outputs": []
    }
  ]
}